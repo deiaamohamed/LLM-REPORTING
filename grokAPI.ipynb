{
 "cells": [
  {
   "cell_type": "code",
   "execution_count": 1,
   "id": "1de6f3ca-af57-44fb-a7ef-b89a96a2e411",
   "metadata": {},
   "outputs": [
    {
     "name": "stdout",
     "output_type": "stream",
     "text": [
      "Requirement already satisfied: openai in d:\\1\\anaconda\\lib\\site-packages (1.88.0)\n",
      "Requirement already satisfied: pillow in d:\\1\\anaconda\\lib\\site-packages (10.4.0)\n",
      "Requirement already satisfied: matplotlib in d:\\1\\anaconda\\lib\\site-packages (3.9.2)\n",
      "Requirement already satisfied: anyio<5,>=3.5.0 in d:\\1\\anaconda\\lib\\site-packages (from openai) (4.2.0)\n",
      "Requirement already satisfied: distro<2,>=1.7.0 in d:\\1\\anaconda\\lib\\site-packages (from openai) (1.9.0)\n",
      "Requirement already satisfied: httpx<1,>=0.23.0 in d:\\1\\anaconda\\lib\\site-packages (from openai) (0.27.0)\n",
      "Requirement already satisfied: jiter<1,>=0.4.0 in d:\\1\\anaconda\\lib\\site-packages (from openai) (0.10.0)\n",
      "Requirement already satisfied: pydantic<3,>=1.9.0 in d:\\1\\anaconda\\lib\\site-packages (from openai) (2.8.2)\n",
      "Requirement already satisfied: sniffio in d:\\1\\anaconda\\lib\\site-packages (from openai) (1.3.0)\n",
      "Requirement already satisfied: tqdm>4 in d:\\1\\anaconda\\lib\\site-packages (from openai) (4.67.1)\n",
      "Requirement already satisfied: typing-extensions<5,>=4.11 in d:\\1\\anaconda\\lib\\site-packages (from openai) (4.14.0)\n",
      "Requirement already satisfied: contourpy>=1.0.1 in d:\\1\\anaconda\\lib\\site-packages (from matplotlib) (1.2.0)\n",
      "Requirement already satisfied: cycler>=0.10 in d:\\1\\anaconda\\lib\\site-packages (from matplotlib) (0.11.0)\n",
      "Requirement already satisfied: fonttools>=4.22.0 in d:\\1\\anaconda\\lib\\site-packages (from matplotlib) (4.51.0)\n",
      "Requirement already satisfied: kiwisolver>=1.3.1 in d:\\1\\anaconda\\lib\\site-packages (from matplotlib) (1.4.4)\n",
      "Requirement already satisfied: numpy>=1.23 in d:\\1\\anaconda\\lib\\site-packages (from matplotlib) (1.26.4)\n",
      "Requirement already satisfied: packaging>=20.0 in d:\\1\\anaconda\\lib\\site-packages (from matplotlib) (25.0)\n",
      "Requirement already satisfied: pyparsing>=2.3.1 in d:\\1\\anaconda\\lib\\site-packages (from matplotlib) (3.1.2)\n",
      "Requirement already satisfied: python-dateutil>=2.7 in d:\\1\\anaconda\\lib\\site-packages (from matplotlib) (2.9.0.post0)\n",
      "Requirement already satisfied: idna>=2.8 in d:\\1\\anaconda\\lib\\site-packages (from anyio<5,>=3.5.0->openai) (3.10)\n",
      "Requirement already satisfied: certifi in d:\\1\\anaconda\\lib\\site-packages (from httpx<1,>=0.23.0->openai) (2025.6.15)\n",
      "Requirement already satisfied: httpcore==1.* in d:\\1\\anaconda\\lib\\site-packages (from httpx<1,>=0.23.0->openai) (1.0.2)\n",
      "Requirement already satisfied: h11<0.15,>=0.13 in d:\\1\\anaconda\\lib\\site-packages (from httpcore==1.*->httpx<1,>=0.23.0->openai) (0.14.0)\n",
      "Requirement already satisfied: annotated-types>=0.4.0 in d:\\1\\anaconda\\lib\\site-packages (from pydantic<3,>=1.9.0->openai) (0.6.0)\n",
      "Requirement already satisfied: pydantic-core==2.20.1 in d:\\1\\anaconda\\lib\\site-packages (from pydantic<3,>=1.9.0->openai) (2.20.1)\n",
      "Requirement already satisfied: six>=1.5 in d:\\1\\anaconda\\lib\\site-packages (from python-dateutil>=2.7->matplotlib) (1.16.0)\n",
      "Requirement already satisfied: colorama in d:\\1\\anaconda\\lib\\site-packages (from tqdm>4->openai) (0.4.6)\n"
     ]
    }
   ],
   "source": [
    "!pip install openai pillow matplotlib"
   ]
  },
  {
   "cell_type": "code",
   "execution_count": 5,
   "id": "29d90667-0816-4cbc-ad3f-dca61d114843",
   "metadata": {},
   "outputs": [
    {
     "name": "stdout",
     "output_type": "stream",
     "text": [
      "Error processing Glioma_enh_1841_processed.png: Error code: 403 - {'code': 'The caller does not have permission to execute the specified operation', 'error': \"Your newly created teams doesn't have any credits yet. You can purchase credits on https://console.x.ai/team/bf97a935-b865-4e52-aaf6-91f65c1173b3.\"}\n",
      "Error processing Glioma_enh_1842_processed.png: Error code: 403 - {'code': 'The caller does not have permission to execute the specified operation', 'error': \"Your newly created teams doesn't have any credits yet. You can purchase credits on https://console.x.ai/team/bf97a935-b865-4e52-aaf6-91f65c1173b3.\"}\n",
      "Error processing Glioma_enh_1843_processed.png: Error code: 403 - {'code': 'The caller does not have permission to execute the specified operation', 'error': \"Your newly created teams doesn't have any credits yet. You can purchase credits on https://console.x.ai/team/bf97a935-b865-4e52-aaf6-91f65c1173b3.\"}\n"
     ]
    }
   ],
   "source": [
    "import os\n",
    "import glob\n",
    "from openai import OpenAI\n",
    "import matplotlib.pyplot as plt\n",
    "from PIL import Image\n",
    "import base64\n",
    "\n",
    "\n",
    "# Get API key from environment variable (set in Command Prompt)\n",
    "api_key = os.getenv(\"XAI_API_KEY\")\n",
    "if not api_key:\n",
    "    raise ValueError(\"API key not found. Please set XAI_API_KEY in your environment variables.\")\n",
    "\n",
    "# Initialize the xAI API client\n",
    "client = OpenAI(\n",
    "    api_key=api_key,\n",
    "    base_url=\"https://api.x.ai/v1\"\n",
    ")\n",
    "\n",
    "# Function to encode image to base64\n",
    "def encode_image(image_path):\n",
    "    with open(image_path, \"rb\") as image_file:\n",
    "        return image_file.read()\n",
    "\n",
    "# Process a few images\n",
    "root_path = r\"D:\\LLM\\heatmaps\"\n",
    "image_files = glob.glob(os.path.join(root_path, \"*_processed.png\"))\n",
    "num_images_to_show = 3\n",
    "\n",
    "for img_path in image_files[:num_images_to_show]:\n",
    "    try:\n",
    "        image_data = encode_image(img_path)\n",
    "        tumor_type = img_path.split(\"_\")[0].split(\"\\\\\")[-1]\n",
    "        \n",
    "        # Prepare the prompt\n",
    "        prompt = f\"Analyze this MRI heatmap image and provide a detailed caption including the tumor type, location, size, and any irregularities. The image is labeled as a {tumor_type} tumor.\"\n",
    "        \n",
    "        # Make API call\n",
    "        response = client.chat.completions.create(\n",
    "            model=\"grok-vision-beta\",\n",
    "            messages=[\n",
    "                {\n",
    "                    \"role\": \"user\",\n",
    "                    \"content\": [\n",
    "                        {\"type\": \"text\", \"text\": prompt},\n",
    "                        {\n",
    "                            \"type\": \"image_url\",\n",
    "                            \"image_url\": {\n",
    "                                \"url\": f\"data:image/png;base64,{base64.b64encode(image_data).decode('utf-8')}\"\n",
    "                            }\n",
    "                        }\n",
    "                    ]\n",
    "                }\n",
    "            ],\n",
    "            max_tokens=200\n",
    "        )\n",
    "\n",
    "        caption = response.choices[0].message.content\n",
    "        \n",
    "        # Display the image and caption\n",
    "        image = Image.open(img_path).convert(\"RGB\")\n",
    "        plt.figure(figsize=(8, 6))\n",
    "        plt.imshow(image)\n",
    "        plt.title(f\"{os.path.basename(img_path)}\\nCaption: {caption}\")\n",
    "        plt.axis('off')\n",
    "        plt.show()\n",
    "        print(f\"{os.path.basename(img_path)}: {caption}\")\n",
    "    except Exception as e:\n",
    "        print(f\"Error processing {os.path.basename(img_path)}: {str(e)}\")"
   ]
  }
 ],
 "metadata": {
  "kernelspec": {
   "display_name": "Python 3 (ipykernel)",
   "language": "python",
   "name": "python3"
  },
  "language_info": {
   "codemirror_mode": {
    "name": "ipython",
    "version": 3
   },
   "file_extension": ".py",
   "mimetype": "text/x-python",
   "name": "python",
   "nbconvert_exporter": "python",
   "pygments_lexer": "ipython3",
   "version": "3.12.7"
  }
 },
 "nbformat": 4,
 "nbformat_minor": 5
}
